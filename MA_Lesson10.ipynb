{
 "cells": [
  {
   "cell_type": "markdown",
   "metadata": {},
   "source": [
    "#### 1. Исследовать ряд на сходимость, используя признак д’Аламбера"
   ]
  },
  {
   "cell_type": "markdown",
   "metadata": {},
   "source": [
    "$\\displaystyle \\sum_{n=1}^\\infty{\\frac{n^n}{(n!)^2}}$"
   ]
  },
  {
   "cell_type": "markdown",
   "metadata": {},
   "source": [
    "Признак Даламбера  $\\displaystyle \\lim\\limits_{n \\to \\infty}{\\frac {u_{n+1}}{u_n}} = q$   \n",
    "При q < 1 ряд сходится, при q > 1 ряд расходится, при q = 1 получаем неопределённость"
   ]
  },
  {
   "cell_type": "markdown",
   "metadata": {},
   "source": [
    "$\\displaystyle \\lim\\limits_{n \\to \\infty}{\\frac{\\frac{(n+1)^{(n+1)}}{((n+1)!)^2}}{\\frac{n^n}{(n!)^2}}} = \\lim\\limits_{n \\to \\infty}{\\frac{(n+1)^{(n+1)}}{n^n}} \\cdot \\frac {n!^2}{(n+1)!^2} = \\lim\\limits_{n \\to \\infty}{\\frac{(n+1)\\cdot(n+1)^n \\cdot n!^2}{n^n \\cdot (n+1)^2 \\cdot n!^2}} = \\lim\\limits_{n \\to \\infty}{\\frac{(n+1)^n}{n^n \\cdot (n\n",
    "+1)}} = 0$"
   ]
  },
  {
   "cell_type": "markdown",
   "metadata": {},
   "source": [
    "Поскольку q < 1, то ряд сходится"
   ]
  },
  {
   "cell_type": "markdown",
   "metadata": {},
   "source": [
    "#### 2.\tИсследовать ряд на сходимость, используя радикальный признак Коши"
   ]
  },
  {
   "cell_type": "markdown",
   "metadata": {},
   "source": [
    "$\\displaystyle \\sum_{n=1}^\\infty{\\frac{n}{2^n}}$"
   ]
  },
  {
   "cell_type": "markdown",
   "metadata": {},
   "source": [
    "$\\displaystyle sup ( \\lim\\limits_{n \\to \\infty} {\\sqrt[n]{\\frac{n}{2^n}}}) =\n",
    "\\frac{1}{2} \\lim\\limits_{n \\to \\infty}{\\sqrt[n]{n}} = \\frac{1}{2} $"
   ]
  },
  {
   "cell_type": "markdown",
   "metadata": {},
   "source": [
    "Поскольку $\\alpha$ < 1, то ряд сходится"
   ]
  },
  {
   "cell_type": "markdown",
   "metadata": {},
   "source": [
    "#### 3.Исследовать ряд на сходимость, используя признак Лейбница"
   ]
  },
  {
   "cell_type": "markdown",
   "metadata": {},
   "source": [
    "$\\displaystyle \\sum_{n=1}^\\infty{\\frac{(-1)^n}{n+ \\ln{n}}}$"
   ]
  },
  {
   "cell_type": "markdown",
   "metadata": {},
   "source": [
    "1. Ряд знакочередующийся"
   ]
  },
  {
   "cell_type": "markdown",
   "metadata": {},
   "source": [
    "2. Члены ряда по модулю монотонно убывают: $\\displaystyle \\lim\\limits_{n \\to \\infty}{|\\frac{(-1)^n}{n + \\ln{n}}|} = 0$"
   ]
  },
  {
   "cell_type": "markdown",
   "metadata": {},
   "source": [
    "Следовательно ряд сходится."
   ]
  },
  {
   "cell_type": "markdown",
   "metadata": {},
   "source": [
    "#### 4.\tИсследовать ряд на сходимость, используя признак Раабе"
   ]
  },
  {
   "cell_type": "markdown",
   "metadata": {},
   "source": [
    "$\\displaystyle \\sum_{n=1}^\\infty{\\frac{3^n}{2^n}}$"
   ]
  },
  {
   "cell_type": "markdown",
   "metadata": {},
   "source": [
    "$\\displaystyle \\lim\\limits_{n \\to \\infty}{ n \\cdot \\left( \\frac{\\frac{3^{n}}{2^{n}}}{\\frac{3^{n + 1}}{2^{n + 1}}} - 1 \\right) = -\\dfrac{1}{3} n } < 0 \\Rightarrow$ числовой ряд расходится"
   ]
  },
  {
   "cell_type": "markdown",
   "metadata": {},
   "source": [
    "#### 5.\tРазложить функцию по Тейлору в единице"
   ]
  },
  {
   "cell_type": "markdown",
   "metadata": {},
   "source": [
    "$\\displaystyle f(x) = \\ln(16x^2)$"
   ]
  },
  {
   "cell_type": "markdown",
   "metadata": {},
   "source": [
    "Найдём значения функции и её производных при x=1"
   ]
  },
  {
   "cell_type": "markdown",
   "metadata": {},
   "source": [
    "$\\displaystyle f'(x)=\\frac{2}{x}$, $\\displaystyle f'(1)=2$   \n",
    "$\\displaystyle f''(x)=-\\frac{2}{x^2}$, $\\displaystyle f''(1)=-2$   \n",
    "$\\displaystyle f'''(x)=\\frac{4}{x^3}$, $\\displaystyle f'''(1)=4$"
   ]
  },
  {
   "cell_type": "markdown",
   "metadata": {},
   "source": [
    "Подставим полученные значения производных в формулу ряда Тейлора:"
   ]
  },
  {
   "cell_type": "markdown",
   "metadata": {},
   "source": [
    "$\\displaystyle \\ln(16x^2)=\\ln(16) + \\frac{1}{1!}(x-1) + \\frac{-2}{2!}(x-1)^2 + \\frac{4}{3!}(x-1)^3 + ...$"
   ]
  },
  {
   "cell_type": "markdown",
   "metadata": {},
   "source": [
    "### Интегралы"
   ]
  },
  {
   "cell_type": "markdown",
   "metadata": {},
   "source": [
    "#### 1. Найти неопределенный интеграл"
   ]
  },
  {
   "cell_type": "markdown",
   "metadata": {},
   "source": [
    "$\\displaystyle \\int (2x^2 - 2x - 1 +sin(x) - cos(x) +\\ln(x) + e^x)dx = 2\\frac{x^{3}}{3} - x^{2} - x - \\cos(x) - \\sin(x) + x(\\ln(x) - 1) + e^{x} + С$"
   ]
  },
  {
   "cell_type": "markdown",
   "metadata": {},
   "source": [
    "#### 2. Найти неопределенный интеграл"
   ]
  },
  {
   "cell_type": "markdown",
   "metadata": {},
   "source": [
    "$\\displaystyle \\int (2x + 6xz^2 - 5x^2y - 3\\ln(z))dx = x^{2} + 3x^{2}z^{2} - \\frac{5}{3}x^{3}y - 3x\\ln(z) + С$"
   ]
  },
  {
   "cell_type": "markdown",
   "metadata": {},
   "source": [
    "#### 3. Вычислить определенный интеграл"
   ]
  },
  {
   "cell_type": "markdown",
   "metadata": {},
   "source": [
    "$\\displaystyle \\int\\limits_0^\\pi (3x^2 \\cdot sin(2x)) dx = \\left.(-3 \\cdot x^2 \\cdot \\frac{cos(2x)}{2} + 3 \\cdot x \\cdot \\frac{sin(2x)}{2}) + 3 \\cdot \\frac{cos(2x)}{4}) \\right|_0^\\pi$"
   ]
  },
  {
   "cell_type": "markdown",
   "metadata": {},
   "source": [
    "$\\displaystyle F(\\pi) = -3 \\cdot \\frac{\\pi ^2}{2} + \\frac{3}{4}$   \n",
    "$\\displaystyle F(0) = \\frac{3}{4}$   \n",
    "$\\displaystyle I = -3 \\cdot \\frac{\\pi ^2}{2} + \\frac{3}{4} - \\frac{3}{4} = -3 \\cdot \\frac{\\pi ^2}{2}$"
   ]
  },
  {
   "cell_type": "markdown",
   "metadata": {},
   "source": [
    "#### 4. Найти неопределенный интеграл"
   ]
  },
  {
   "cell_type": "markdown",
   "metadata": {},
   "source": [
    "$\\displaystyle \\int \\frac{1}{\\sqrt{x+1}} dx = 2 \\cdot \\sqrt{x+1} + C$"
   ]
  },
  {
   "cell_type": "code",
   "execution_count": null,
   "metadata": {},
   "outputs": [],
   "source": []
  }
 ],
 "metadata": {
  "kernelspec": {
   "display_name": "Python 3",
   "language": "python",
   "name": "python3"
  },
  "language_info": {
   "codemirror_mode": {
    "name": "ipython",
    "version": 3
   },
   "file_extension": ".py",
   "mimetype": "text/x-python",
   "name": "python",
   "nbconvert_exporter": "python",
   "pygments_lexer": "ipython3",
   "version": "3.7.4"
  }
 },
 "nbformat": 4,
 "nbformat_minor": 2
}

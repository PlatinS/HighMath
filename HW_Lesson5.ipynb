{
 "cells": [
  {
   "cell_type": "code",
   "execution_count": 1,
   "metadata": {},
   "outputs": [],
   "source": [
    "import numpy as np\n",
    "import math\n",
    "import matplotlib.pyplot as plt\n",
    "import matplotlib.mlab as mlab\n",
    "%matplotlib inline"
   ]
  },
  {
   "cell_type": "markdown",
   "metadata": {},
   "source": [
    "#### Задание 1. Крутим рулетку 10 раз. Выпадают числа от 0 до 36."
   ]
  },
  {
   "cell_type": "code",
   "execution_count": 4,
   "metadata": {},
   "outputs": [
    {
     "name": "stdout",
     "output_type": "stream",
     "text": [
      "\n",
      "Выпало :  [25]  Чёрное \n",
      "\n",
      "Выпало :  [8]  Красное \n",
      "\n",
      "Выпало :  [20]  Красное \n",
      "\n",
      "Выпало :  [27]  Чёрное \n",
      "\n",
      "Выпало :  [13]  Чёрное   Вы выиграли!\n",
      "\n",
      "Выпало :  [11]  Чёрное \n",
      "\n",
      "Выпало :  [14]  Красное \n",
      "\n",
      "Выпало :  [35]  Чёрное \n",
      "\n",
      "Выпало :  [28]  Красное \n",
      "\n",
      "Выпало :  [8]  Красное \n"
     ]
    }
   ],
   "source": [
    "for i in range(0,10):\n",
    "    a = input()\n",
    "    x = np.random.randint(0, 37, 1)\n",
    "    if x == 0:\n",
    "        s = 'ZERO'\n",
    "    elif x % 2 == 0:\n",
    "        s = ' Красное '\n",
    "    else:\n",
    "        s = ' Чёрное '\n",
    "    if (x == 13):\n",
    "        print(\"Выпало : \", str(x), s,\" Вы выиграли!\")\n",
    "    else:\n",
    "        print(\"Выпало : \", str(x), s)"
   ]
  },
  {
   "cell_type": "markdown",
   "metadata": {},
   "source": [
    "#### Задание 2.1  Будем считать, что 0 - решка, 1 - орёл"
   ]
  },
  {
   "cell_type": "code",
   "execution_count": 5,
   "metadata": {},
   "outputs": [
    {
     "name": "stdout",
     "output_type": "stream",
     "text": [
      "P(k) =  0.5088\n",
      "P(q) =  0.4912\n",
      "P(k+q) =  1.0\n",
      "P(k+q) = P(k) + P(m) =  1.0\n"
     ]
    }
   ],
   "source": [
    "k, q = 0, 0\n",
    "N = 5000\n",
    "for i in range(N):\n",
    "    x = np.random.randint(0, 2, 1)\n",
    "    if x == 1:\n",
    "        k += 1\n",
    "    elif x == 0:\n",
    "        q += 1\n",
    "print(\"P(k) = \", k / N)\n",
    "print(\"P(q) = \", q / N)\n",
    "print(\"P(k+q) = \", (k+q) / N)\n",
    "print(\"P(k+q) = P(k) + P(m) = \", (k / N) + (q / N))"
   ]
  },
  {
   "cell_type": "markdown",
   "metadata": {},
   "source": [
    "#### Задание 2.2"
   ]
  },
  {
   "cell_type": "code",
   "execution_count": 6,
   "metadata": {},
   "outputs": [],
   "source": [
    "from random import randrange"
   ]
  },
  {
   "cell_type": "code",
   "execution_count": 7,
   "metadata": {},
   "outputs": [
    {
     "data": {
      "text/plain": [
       "(10, 1000)"
      ]
     },
     "execution_count": 7,
     "metadata": {},
     "output_type": "execute_result"
    }
   ],
   "source": [
    "select = np.array([[randrange(100) for y in range(1000)] for y in range(10)])\n",
    "select.shape"
   ]
  },
  {
   "cell_type": "code",
   "execution_count": 8,
   "metadata": {},
   "outputs": [
    {
     "data": {
      "text/plain": [
       "(1000,)"
      ]
     },
     "execution_count": 8,
     "metadata": {},
     "output_type": "execute_result"
    }
   ],
   "source": [
    "select_sum = np.sum(select, axis=0)\n",
    "select_sum.shape"
   ]
  },
  {
   "cell_type": "code",
   "execution_count": 9,
   "metadata": {},
   "outputs": [
    {
     "data": {
      "text/plain": [
       "Text(0.5, 1.0, 'Histogram')"
      ]
     },
     "execution_count": 9,
     "metadata": {},
     "output_type": "execute_result"
    },
    {
     "data": {
      "image/png": "[encoded data removed]",
      "text/plain": [
       "<Figure size 432x288 with 1 Axes>"
      ]
     },
     "metadata": {
      "needs_background": "light"
     },
     "output_type": "display_data"
    }
   ],
   "source": [
    "num_bins = 20\n",
    "n, bins, patches = plt.hist(select_sum, num_bins)\n",
    "plt.xlabel('x')\n",
    "plt.ylabel('Probability')\n",
    "plt.title('Histogram')"
   ]
  },
  {
   "cell_type": "markdown",
   "metadata": {},
   "source": [
    "#### Задание 3.1"
   ]
  },
  {
   "cell_type": "code",
   "execution_count": 10,
   "metadata": {},
   "outputs": [
    {
     "name": "stdout",
     "output_type": "stream",
     "text": [
      "3735 10000 0.3735\n"
     ]
    }
   ],
   "source": [
    "k, n = 0, 10000\n",
    "a = np.random.randint(0, 2, n)\n",
    "b = np.random.randint(0, 2, n)\n",
    "c = np.random.randint(0, 2, n)\n",
    "d = np.random.randint(0, 2, n)\n",
    "x = a + b + c + d\n",
    "for i in range(0, n):\n",
    "    if x[i] == 2:\n",
    "        k += 1\n",
    "#print(a, b, c, d)\n",
    "#print(x)\n",
    "print(k, n, k/n)"
   ]
  },
  {
   "cell_type": "code",
   "execution_count": 11,
   "metadata": {},
   "outputs": [
    {
     "name": "stdout",
     "output_type": "stream",
     "text": [
      "Pn(k) =  0.375\n"
     ]
    }
   ],
   "source": [
    "# Pn(k) = Cn(k) * 1/2^n\n",
    "Cn_k = math.factorial(4) / (math.factorial(2) * math.factorial(4-2))\n",
    "Pn_k = Cn_k * (1/(2**4))\n",
    "print(\"Pn(k) = \", Pn_k)"
   ]
  },
  {
   "cell_type": "code",
   "execution_count": 22,
   "metadata": {},
   "outputs": [
    {
     "name": "stdout",
     "output_type": "stream",
     "text": [
      "3118 20000 0.1559\n"
     ]
    }
   ],
   "source": [
    "k, n = 0, 20000\n",
    "a = np.random.randint(0, 2, n)\n",
    "b = np.random.randint(0, 2, n)\n",
    "c = np.random.randint(0, 2, n)\n",
    "d = np.random.randint(0, 2, n)\n",
    "e = np.random.randint(0, 2, n)\n",
    "x = a + b + c + d + e\n",
    "for i in range(0, n):\n",
    "    if x[i] == 4:\n",
    "        k += 1\n",
    "#print(a, b, c, d, e)\n",
    "#print(x)\n",
    "print(k, n, k/n)"
   ]
  },
  {
   "cell_type": "code",
   "execution_count": 23,
   "metadata": {},
   "outputs": [
    {
     "name": "stdout",
     "output_type": "stream",
     "text": [
      "Pn(k) =  0.15625\n"
     ]
    }
   ],
   "source": [
    "# Pn(k) = Cn(k) * 1/2^n\n",
    "Cn_k = math.factorial(5) / (math.factorial(4) * math.factorial(5-4))\n",
    "Pn_k = Cn_k * (1/(2**5))\n",
    "print(\"Pn(k) = \", Pn_k)"
   ]
  },
  {
   "cell_type": "markdown",
   "metadata": {},
   "source": [
    "#### Задание 4"
   ]
  },
  {
   "cell_type": "code",
   "execution_count": 25,
   "metadata": {},
   "outputs": [],
   "source": [
    "import itertools"
   ]
  },
  {
   "cell_type": "code",
   "execution_count": 27,
   "metadata": {},
   "outputs": [
    {
     "name": "stdout",
     "output_type": "stream",
     "text": [
      "111\n",
      "112\n",
      "114\n",
      "121\n",
      "122\n",
      "124\n",
      "141\n",
      "142\n",
      "144\n",
      "211\n",
      "212\n",
      "214\n",
      "221\n",
      "222\n",
      "224\n",
      "241\n",
      "242\n",
      "244\n",
      "411\n",
      "412\n",
      "414\n",
      "421\n",
      "422\n",
      "424\n",
      "441\n",
      "442\n",
      "444\n"
     ]
    }
   ],
   "source": [
    "for p in itertools.product(\"124\",repeat=3):\n",
    "    print(''.join(p))"
   ]
  },
  {
   "cell_type": "code",
   "execution_count": 29,
   "metadata": {},
   "outputs": [
    {
     "name": "stdout",
     "output_type": "stream",
     "text": [
      "77\n",
      "78\n",
      "87\n",
      "88\n"
     ]
    }
   ],
   "source": [
    "for p in itertools.product(\"78\",repeat=2):\n",
    "    print(''.join(p))"
   ]
  },
  {
   "cell_type": "markdown",
   "metadata": {},
   "source": [
    "#### Задание 5"
   ]
  },
  {
   "cell_type": "code",
   "execution_count": 45,
   "metadata": {},
   "outputs": [
    {
     "name": "stdout",
     "output_type": "stream",
     "text": [
      "0.6603787113431557 0.16756285718378655\n",
      "0.6603787113431557 0.16756285718378663\n"
     ]
    },
    {
     "data": {
      "image/png": "[encoded data removed]",
      "text/plain": [
       "<Figure size 432x288 with 1 Axes>"
      ]
     },
     "metadata": {
      "needs_background": "light"
     },
     "output_type": "display_data"
    }
   ],
   "source": [
    "n = 200\n",
    "r = 0.65\n",
    "x = np.random.rand(n)\n",
    "y = r * x + (1 - r) * np.random.rand(n)\n",
    "plt.plot(x, y, 'o')\n",
    "plt.xlabel('x')\n",
    "plt.ylabel('y')\n",
    "plt.grid()\n",
    "\n",
    "a = (np.sum(x) * np.sum(y) - n * np.sum(x * y)) / (np.sum(x) * np.sum(x) - n * np.sum(x * x))\n",
    "b = (np.sum(y) - a * np.sum(x)) / n\n",
    "\n",
    "A = np.vstack([x, np.ones(len(x))]).T\n",
    "a1, b1 = np.linalg.lstsq(A, y, rcond = None)[0]\n",
    "print(a, b)\n",
    "print(a1, b1)\n",
    "\n",
    "plt.plot([0, 1], [b, a + b]);"
   ]
  },
  {
   "cell_type": "code",
   "execution_count": 46,
   "metadata": {},
   "outputs": [
    {
     "name": "stdout",
     "output_type": "stream",
     "text": [
      "[[1.        0.8834044]\n",
      " [0.8834044 1.       ]]\n"
     ]
    }
   ],
   "source": [
    "corr_1 = np.corrcoef(x, y)\n",
    "print(corr_1)"
   ]
  },
  {
   "cell_type": "code",
   "execution_count": 47,
   "metadata": {},
   "outputs": [],
   "source": [
    "def R(x, y):\n",
    "    return ((x - x.mean()) * (y - y.mean())).sum() / \\\n",
    "            np.sqrt(((x - x.mean()) ** 2).sum() * ((y - y.mean()) ** 2).sum())"
   ]
  },
  {
   "cell_type": "code",
   "execution_count": 48,
   "metadata": {},
   "outputs": [
    {
     "name": "stdout",
     "output_type": "stream",
     "text": [
      "0.8834043960108956\n"
     ]
    }
   ],
   "source": [
    "corr_2 = R(x,y)\n",
    "print(corr_2 )"
   ]
  },
  {
   "cell_type": "code",
   "execution_count": null,
   "metadata": {},
   "outputs": [],
   "source": []
  }
 ],
 "metadata": {
  "kernelspec": {
   "display_name": "Python 3",
   "language": "python",
   "name": "python3"
  },
  "language_info": {
   "codemirror_mode": {
    "name": "ipython",
    "version": 3
   },
   "file_extension": ".py",
   "mimetype": "text/x-python",
   "name": "python",
   "nbconvert_exporter": "python",
   "pygments_lexer": "ipython3",
   "version": "3.7.4"
  }
 },
 "nbformat": 4,
 "nbformat_minor": 2
}

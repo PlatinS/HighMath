{
 "cells": [
  {
   "cell_type": "markdown",
   "metadata": {},
   "source": [
    "#### Исследовать функцию на условный экстремум"
   ]
  },
  {
   "cell_type": "markdown",
   "metadata": {},
   "source": [
    "1. $\\displaystyle U = 3 - 8x + 6y $, если $x^2 + y^2 = 36$"
   ]
  },
  {
   "cell_type": "markdown",
   "metadata": {},
   "source": [
    "$L(\\lambda_1,x,y) = 3 - 8x + 6y + \\lambda_1(x^2+y^2-36)$"
   ]
  },
  {
   "cell_type": "markdown",
   "metadata": {},
   "source": [
    "$\\left\\{\\begin{array}{l}L'_x = -8 + \\lambda_1 \\cdotp 2x \\\\\n",
    "L'_y = 6 + \\lambda_1 \\cdotp 2y \\\\\n",
    "L'_{\\lambda_1}=(x^2+y^2-36)\\end{array}\\right.  \\Rightarrow$\n",
    "$\\left\\{\\begin{array}{l}x=\\frac{8}{2\\lambda_1}\\\\\n",
    "y=-\\frac{6}{2\\lambda_1}\\\\\n",
    "\\frac{64}{4\\lambda_1^2}+\\frac{36}{4\\lambda_1^2}=36\\end{array}\\right. \\Rightarrow$\n",
    "$\\left\\{\\begin{array}{l}x=\\frac{8}{2\\lambda_1}\\\\\n",
    "y=-\\frac{6}{2\\lambda_1}\\\\\n",
    "\\lambda_1^2=\\frac{25}{36}\\end{array}\\right. \\Rightarrow$"
   ]
  },
  {
   "cell_type": "markdown",
   "metadata": {},
   "source": [
    "Условные экстремумы:   \n",
    "для $\\lambda_1=+\\frac{5}{6}$ : $(4.8,-3.6)$,   \n",
    "для $\\lambda_1=-\\frac{5}{6}$ : $(-4.8,3.6)$"
   ]
  },
  {
   "cell_type": "markdown",
   "metadata": {},
   "source": [
    "----"
   ]
  },
  {
   "cell_type": "markdown",
   "metadata": {},
   "source": [
    "2. $\\displaystyle U = 2x^2 + 12xy + 32y^2 + 15$, если $x^2 + 16y^2 = 64$"
   ]
  },
  {
   "cell_type": "markdown",
   "metadata": {},
   "source": [
    "$L(\\lambda_1,x,y) = 2x^2 + 12xy + 32y^2 + 15 + \\lambda_1(x^2+16y^2-64)$"
   ]
  },
  {
   "cell_type": "markdown",
   "metadata": {},
   "source": [
    "$\\left\\{\\begin{array}{l}L'_x = 4x+12y+\\lambda_1 \\cdotp 2x \\\\\n",
    "L'_y = 12x + 64y + \\lambda_1 \\cdotp 32y \\\\\n",
    "L'_{\\lambda_1}=(x^2+16y^2-64)\\end{array}\\right.  \\Rightarrow$\n",
    "$\\left\\{\\begin{array}{l}2x(2+\\lambda_1)+12y=0\\\\\n",
    "32y(2+\\lambda_1)+12x=0\\\\\n",
    "x^2+16y^2-64=0\\end{array}\\right. \\Rightarrow$\n",
    "$\\left\\{\\begin{array}{l}(2+\\lambda_1)=\\frac{-12y}{2x}\\\\\n",
    "(2+\\lambda_1)=\\frac{-12x}{32y}\\\\\n",
    "x^2+16y^2-64=0\\end{array}\\right. \\Rightarrow$"
   ]
  },
  {
   "cell_type": "markdown",
   "metadata": {},
   "source": [
    "Из первых двух уравнений: $\\displaystyle \\frac{12y}{2x}=\\frac{12x}{32y} \\Rightarrow 24x^2=384y^2 \\Rightarrow x^2=16y^2 \\Rightarrow x=\\sqrt{16y^2}$"
   ]
  },
  {
   "cell_type": "markdown",
   "metadata": {},
   "source": [
    "Подставляем в третье уравнение: $\\displaystyle 16y^2 + 16y^2 = 64 \\Rightarrow y^2 = 2 \\Rightarrow y = \\pm \\sqrt{2}$  и  $\\Rightarrow x= \\pm 4\\sqrt{2}$ "
   ]
  },
  {
   "cell_type": "markdown",
   "metadata": {},
   "source": [
    "Из первого уравнения: $\\lambda_1 = -\\frac{7}{2}$, из второго уравнения: $\\lambda_1 = -\\frac{1}{2}$"
   ]
  },
  {
   "cell_type": "markdown",
   "metadata": {},
   "source": [
    "Условные экстремумы:   \n",
    "$\\lambda_1 = -\\frac{7}{2}$ :  $(-4\\sqrt{2}, -\\sqrt{2}) , (4\\sqrt{2}, \\sqrt{2})$   \n",
    "$\\lambda_1 = -\\frac{1}{2}$ :  $(4\\sqrt{2}, -\\sqrt{2}) , (-4\\sqrt{2}, \\sqrt{2})$"
   ]
  },
  {
   "cell_type": "markdown",
   "metadata": {},
   "source": [
    "----"
   ]
  },
  {
   "cell_type": "markdown",
   "metadata": {},
   "source": [
    "3. Найти производную функции $U=x^2+y^2+z^2$ по направлению вектора $\\vec{c}(-9,8,-12)$ в точку $M(8;-12;9)$"
   ]
  },
  {
   "cell_type": "markdown",
   "metadata": {},
   "source": [
    "$|\\vec{c}|=\\sqrt{x_0^2+y_0^2+z_0^2}=\\sqrt{(-9)^2+8^2+(-12)^2}=\\sqrt{81+64+144}=17$"
   ]
  },
  {
   "cell_type": "markdown",
   "metadata": {},
   "source": [
    "$\\displaystyle \\vec{c_0}=\\frac{\\vec{c}}{|\\vec{c}|}=(-\\frac{9}{17},\\frac{8}{17},-\\frac{12}{17})$"
   ]
  },
  {
   "cell_type": "markdown",
   "metadata": {},
   "source": [
    "$U'_x = 2x$   \n",
    "$U'_y = 2y$   \n",
    "$U'_z = 2z$   \n",
    "$grad U|_{(8,-12,9)}=(16,-24,18)$   \n",
    "$\\displaystyle U'_{\\vec{c}}|_{(8,-12,9)}=-\\frac{9}{17} \\cdotp 16 + \\frac{8}{17} \\cdotp (-24) - \\frac{12}{17} \\cdotp 18 = -\\frac{552}{17} = -32\\frac{8}{17}$"
   ]
  },
  {
   "cell_type": "markdown",
   "metadata": {},
   "source": [
    "----"
   ]
  },
  {
   "cell_type": "markdown",
   "metadata": {},
   "source": [
    "4. Найти производную функции $U=e^{x^2+y^2+z^2}$ по направлению вектора $\\vec{d}(4,-13,-16)$ в точку $L(-16;4;-13)$"
   ]
  },
  {
   "cell_type": "markdown",
   "metadata": {},
   "source": [
    "$|\\vec{d}|=\\sqrt{x_0^2+y_0^2+z_0^2}=\\sqrt{4^2+(-13)^2+(-16)^2}=\\sqrt{16+169+256}=21$"
   ]
  },
  {
   "cell_type": "markdown",
   "metadata": {},
   "source": [
    "$\\displaystyle \\vec{d_0}=\\frac{\\vec{c}}{|\\vec{c}|}=(\\frac{4}{21},-\\frac{13}{21},-\\frac{16}{21})$"
   ]
  },
  {
   "cell_type": "markdown",
   "metadata": {},
   "source": [
    "$U'_x = 2x \\cdotp e^{x^2+y^2+z^2}$   \n",
    "$U'_y = 2y \\cdotp e^{x^2+y^2+z^2}$   \n",
    "$U'_z = 2z \\cdotp e^{x^2+y^2+z^2}$   \n",
    "$grad U|_{(-16,4,-13)}=(-32e^{441},8e^{441},-26e^{441})$   \n",
    "$\\displaystyle U'_{\\vec{d}}|_{(-16,4,-13)}=-32e^{441} \\cdotp \\frac{4}{21} + 8e^{441} \\cdotp (-\\frac{13}{21}) + 26e^{441} \\cdotp \\frac{16}{21} = \\frac{e^{441}\\cdotp(-128-104+416)}{21}=8\\frac{16}{21}\\cdotp e^{441}$"
   ]
  },
  {
   "cell_type": "code",
   "execution_count": null,
   "metadata": {},
   "outputs": [],
   "source": []
  }
 ],
 "metadata": {
  "kernelspec": {
   "display_name": "Python 3",
   "language": "python",
   "name": "python3"
  },
  "language_info": {
   "codemirror_mode": {
    "name": "ipython",
    "version": 3
   },
   "file_extension": ".py",
   "mimetype": "text/x-python",
   "name": "python",
   "nbconvert_exporter": "python",
   "pygments_lexer": "ipython3",
   "version": "3.7.4"
  }
 },
 "nbformat": 4,
 "nbformat_minor": 2
}

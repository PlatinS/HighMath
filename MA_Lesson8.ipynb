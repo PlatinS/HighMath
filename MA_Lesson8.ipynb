{
 "cells": [
  {
   "cell_type": "markdown",
   "metadata": {},
   "source": [
    "#### 1. Найти область определения функции"
   ]
  },
  {
   "cell_type": "markdown",
   "metadata": {},
   "source": [
    "$z=\\sqrt{1-x^{3}}+\\ln \\left(y^{2}-1\\right)$"
   ]
  },
  {
   "cell_type": "markdown",
   "metadata": {},
   "source": [
    "$(1-x^{3}) \\geqslant 0 \\Rightarrow 1 \\geqslant x^{3} \\Rightarrow x \\leqslant \\sqrt[3]{1} \\Rightarrow x \\leqslant 1$  \n",
    "$(y^{2}-1) > 0 \\Rightarrow y^{2} > 1 \\Rightarrow | y | > 1 \\Rightarrow y < -1  ;  y > 1$   \n",
    "${D(f)\\;=\\left\\{\\begin{array}[c]{ll}x\\in[-\\infty;1]\\\\y\\in [-\\infty;-1] \\cup [1;+\\infty]\\end{array}\\right.}$"
   ]
  },
  {
   "cell_type": "markdown",
   "metadata": {},
   "source": [
    "#### 2. Найти производные 1-го порядка"
   ]
  },
  {
   "cell_type": "markdown",
   "metadata": {},
   "source": [
    "$\\displaystyle z=\\left(1+\\frac{\\ln x}{\\ln y}\\right)^{3}$"
   ]
  },
  {
   "cell_type": "markdown",
   "metadata": {},
   "source": [
    "$\\displaystyle z^{\\prime}_{x}=3\\cdotp\\left(1+\\frac{\\ln x}{\\ln y}\\right)^{2}\\cdotp\\frac{1}{x}\\cdotp\\frac{1}{\\ln y}=\\frac{3\\cdotp\\left( 1+\\frac{\\ln x}{\\ln y}\\right)^{2}}{x\\cdotp\\ln y}$"
   ]
  },
  {
   "cell_type": "markdown",
   "metadata": {},
   "source": [
    "$\\displaystyle z^{\\prime }_{y}=3\\cdotp\\left(1+\\frac{\\ln x}{\\ln y}\\right)^{2}\\cdotp\\ln x\\cdotp {\\frac{-1}{y \\cdotp ln^{2}y}}=-\\frac{3\\cdotp\\ln x\\cdotp\\left(1+\\frac{\\ln x}{\\ln y}\\right)^{2}}{y \\cdotp \\ln^{2}y}$"
   ]
  },
  {
   "cell_type": "markdown",
   "metadata": {},
   "source": [
    "#### 3. Найти полный дифференциал функции в точке (1;1)"
   ]
  },
  {
   "cell_type": "markdown",
   "metadata": {},
   "source": [
    "$\\displaystyle z=\\sqrt{2 x y+\\cos \\frac{x}{y}}$"
   ]
  },
  {
   "cell_type": "markdown",
   "metadata": {},
   "source": [
    "$\\displaystyle z^{\\prime}_{x}=\\frac {y-\\frac{y-sin(\\frac{x}{y})}{2y}}{\\sqrt{2xy+cos(\\frac{x}{y})}}$"
   ]
  },
  {
   "cell_type": "markdown",
   "metadata": {},
   "source": [
    "$\\displaystyle z^{\\prime}_{y}=\\frac {x + \\frac{x \\cdotp sin(\\frac{x}{y})}{2 \\cdotp y^2}}{\\sqrt{2xy+cos(\\frac{x}{y})}}$"
   ]
  },
  {
   "cell_type": "markdown",
   "metadata": {},
   "source": [
    "$\\displaystyle z^{\\prime}(1;1)=\\frac {1-\\frac{1-sin(1)}{2}}{\\sqrt{2+cos(1)}}+\\frac {1 + \\frac{sin(1)}{2}}{\\sqrt{2+cos(1)}}=\\frac{1 - \\frac{1}{2} + \\frac{\\pi}{4} + 1 + \\frac{\\pi}{4}}{\\sqrt{2}}=\\frac{1.5+\\frac{\\pi}{2}}{\\sqrt{2}}$"
   ]
  },
  {
   "cell_type": "markdown",
   "metadata": {},
   "source": [
    "#### 4. Исследовать на экстремум функцию"
   ]
  },
  {
   "cell_type": "markdown",
   "metadata": {},
   "source": [
    "$\\displaystyle z=x^2 + xy + y^2 - 6x - 9y $"
   ]
  },
  {
   "cell_type": "markdown",
   "metadata": {},
   "source": [
    "$\\displaystyle z^{\\prime}_{x}=2x + y -6$"
   ]
  },
  {
   "cell_type": "markdown",
   "metadata": {},
   "source": [
    "$\\displaystyle z^{\\prime}_{y}=x + 2y -9$"
   ]
  },
  {
   "cell_type": "markdown",
   "metadata": {},
   "source": [
    "$2x+y-6=0$   \n",
    "$x+2y-9=0$"
   ]
  },
  {
   "cell_type": "markdown",
   "metadata": {},
   "source": [
    "Из второго уравнения:   \n",
    "$x=9-2y$   \n",
    "Подставляем в первое уравнение:\n",
    "$2*(9-2y) + y -6 = 0 \\Rightarrow 12 - 3y = 0 \\Rightarrow y = 4$   \n",
    "Подставляем $y$ во второе уравнение:   \n",
    "$2x + 4 - 6 = 0 \\Rightarrow x = 1$"
   ]
  },
  {
   "cell_type": "markdown",
   "metadata": {},
   "source": [
    "Количество критических точек = 1.   \n",
    "$M_{1}(1;4)$"
   ]
  },
  {
   "cell_type": "markdown",
   "metadata": {},
   "source": [
    "Найдем частные производные второго порядка.   \n",
    "$\\displaystyle \\frac{\\partial^2 z}{\\partial x \\partial y} = 1;\\; \\frac{\\partial^2 z}{\\partial x^2} = 2;\\;\\frac{\\partial^2 z}{\\partial y^2} = 2$"
   ]
  },
  {
   "cell_type": "markdown",
   "metadata": {},
   "source": [
    " Вычислим значение этих частных производных второго порядка в критической точке   \n",
    " $\\displaystyle A = \\frac{\\partial^2 z}{\\partial x^2(1;4)} = 2;\\; B = \\frac{\\partial^2 z}{\\partial x \\partial y (1;4)} = 1;\\; C = \\frac{\\partial^2 z}{\\partial y^2(1;4)} = 2$"
   ]
  },
  {
   "cell_type": "markdown",
   "metadata": {},
   "source": [
    "Детерминат в точке $M_{1} = A*C - B^2 = 3 > 0$ и $A > 0$, $\\Rightarrow$ в точке $M_{1}(1;4)$ имеется минимум $z(1;4) = -21 $"
   ]
  },
  {
   "cell_type": "code",
   "execution_count": null,
   "metadata": {},
   "outputs": [],
   "source": []
  }
 ],
 "metadata": {
  "kernelspec": {
   "display_name": "Python 3",
   "language": "python",
   "name": "python3"
  },
  "language_info": {
   "codemirror_mode": {
    "name": "ipython",
    "version": 3
   },
   "file_extension": ".py",
   "mimetype": "text/x-python",
   "name": "python",
   "nbconvert_exporter": "python",
   "pygments_lexer": "ipython3",
   "version": "3.7.4"
  }
 },
 "nbformat": 4,
 "nbformat_minor": 2
}

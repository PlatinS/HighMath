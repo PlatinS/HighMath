{
 "cells": [
  {
   "cell_type": "code",
   "execution_count": 1,
   "metadata": {},
   "outputs": [
    {
     "data": {
      "text/html": [
       "<style>.rendered_html { font-size: 14px; }</style>"
      ],
      "text/plain": [
       "<IPython.core.display.HTML object>"
      ]
     },
     "metadata": {},
     "output_type": "display_data"
    }
   ],
   "source": [
    "from IPython.core.display import display, HTML\n",
    "display(HTML(\"<style>.rendered_html { font-size: 14px; }</style>\"))"
   ]
  },
  {
   "cell_type": "markdown",
   "metadata": {},
   "source": [
    "#### 1.\tКак относятся друг к другу множество и последовательность? "
   ]
  },
  {
   "cell_type": "markdown",
   "metadata": {},
   "source": [
    "Последовательность - дочерний субъект множества (родительского субъекта)."
   ]
  },
  {
   "cell_type": "markdown",
   "metadata": {},
   "source": [
    "#### 2. Прочитать высказывания математической логики, построить их отрицания и установить истинность."
   ]
  },
  {
   "cell_type": "markdown",
   "metadata": {},
   "source": [
    "$\\forall y \\in [0;1] : sgn(y) = 1$   \n",
    "Для любого y на отрезке от 0 до 1 функция сигнум от y принимает значение 1.   \n",
    "Высказывание ложно.\n",
    "\n",
    "Отрицание: $\\exists y \\in [0;1] : sgn(y) \\neq 1 $   \n",
    "Существует у на отрезке от 0 до 1, на котором функция сигнум от y не равна 1.\n"
   ]
  },
  {
   "cell_type": "markdown",
   "metadata": {},
   "source": [
    "$\\forall n \\in \\mathbb N > 2 : \\exists x,y,z \\in \\mathbb N : x^n = y^n + z^n$   \n",
    "Для любого натурального n, большего 2, найдутся натуральные x,y,z для которых выполняется равенство x в степени n и суммы у и z, возведённых в степень n   \n",
    "Высказывание ложно.   \n",
    "\n",
    "Отрицание: $ \\exists n \\in \\mathbb N > 2 : \\forall x,y,z \\in \\mathbb N : x^n \\neq y^n + z^n$"
   ]
  },
  {
   "cell_type": "markdown",
   "metadata": {},
   "source": [
    "$\\forall x \\in \\mathbb R  \\exists X \\in \\mathbb R : X > x$   \n",
    "Для любого действительного x найдётся действительное X, которое больше, чем x   \n",
    "Высказывание истинно.   \n",
    "\n",
    "Отрицание: $ \\exists x \\in \\mathbb R \\forall X \\in \\mathbb R : X < x$"
   ]
  },
  {
   "cell_type": "markdown",
   "metadata": {},
   "source": [
    "$\\forall x \\in \\mathbb C  \\nexists y \\in \\mathbb C : x > y \\| x < y$   \n",
    "Для любого комплексного x не существует комплексного y, чтобы оно было больше или меньше x   \n",
    "Высказывание истинно.    \n",
    "\n",
    "Отрицание: $\\exists x, y \\in \\mathbb C : x < y \\| x > y$"
   ]
  },
  {
   "cell_type": "markdown",
   "metadata": {},
   "source": [
    "$\\forall y \\in [0;\\frac{\\pi}{2}]  \\exists \\varepsilon > 0 : sin(y) < sin(y + \\varepsilon) $   \n",
    "Для любого y на отрезке от 0 до $\\frac{\\pi}{2}$ существует положительное $\\varepsilon$ такое, что $sin(y) < sin(y + \\varepsilon)$   \n",
    "Высказывание ложно.   \n",
    "\n",
    "Отрицание: $\\exists y \\in [0;\\frac{\\pi}{2}]  \\forall \\varepsilon > 0 : sin(y) > sin(y + \\varepsilon) $"
   ]
  },
  {
   "cell_type": "markdown",
   "metadata": {},
   "source": [
    "$\\forall y \\in [0;\\pi]  \\exists \\varepsilon > 0 : cos(y) > cos(y + \\varepsilon) $   \n",
    "Для любого y на отрезке от 0 до $\\pi$ существует положительное $\\varepsilon$ такое, что $cos(y) > cos(y + \\varepsilon)$   \n",
    "Высказывание истинно.   \n",
    "\n",
    "Отрицание: $\\exists y \\in [0;\\pi]  \\forall \\varepsilon > 0 : cos(y) < cos(y + \\varepsilon) $"
   ]
  },
  {
   "cell_type": "markdown",
   "metadata": {},
   "source": [
    "$\\exists x : x \\notin \\{ \\mathbb N, \\mathbb Z, \\mathbb Q, \\mathbb R, \\mathbb C\\}$   \n",
    "Существует x, не являющееся натуральным, целым, рациональным, вещественным или комплексным числом.   \n",
    "Высказывание истинно.   \n",
    "\n",
    "Отрицание: $\\forall x : x \\in \\{ \\mathbb N, \\mathbb Z, \\mathbb Q, \\mathbb R, \\mathbb C\\}$"
   ]
  },
  {
   "cell_type": "markdown",
   "metadata": {},
   "source": [
    "#### 3.\tДаны три множества a,b и с.    Необходимо выполнить все изученные виды бинарных операций над всеми комбинациями множеств."
   ]
  },
  {
   "cell_type": "code",
   "execution_count": 2,
   "metadata": {},
   "outputs": [
    {
     "name": "stdout",
     "output_type": "stream",
     "text": [
      "{'3', '2', '1'} {'4', '3', '2'} {'4', '5', '6'}\n"
     ]
    }
   ],
   "source": [
    "a = set('123')\n",
    "b = set('234')\n",
    "c = set('564')\n",
    "print(a, b, c)"
   ]
  },
  {
   "cell_type": "code",
   "execution_count": 3,
   "metadata": {},
   "outputs": [],
   "source": [
    "# a.union(b) # объединение\n",
    "# b.intersection(a) # пересечение\n",
    "# a.difference(b) # разность\n",
    "# a.symmetric_difference(c) # симметрическая разность"
   ]
  },
  {
   "cell_type": "code",
   "execution_count": 4,
   "metadata": {},
   "outputs": [
    {
     "data": {
      "text/plain": [
       "{'1', '2', '3', '4'}"
      ]
     },
     "execution_count": 4,
     "metadata": {},
     "output_type": "execute_result"
    }
   ],
   "source": [
    "# Объединение\n",
    "a.union(b)"
   ]
  },
  {
   "cell_type": "code",
   "execution_count": 5,
   "metadata": {},
   "outputs": [
    {
     "data": {
      "text/plain": [
       "{'2', '3', '4', '5', '6'}"
      ]
     },
     "execution_count": 5,
     "metadata": {},
     "output_type": "execute_result"
    }
   ],
   "source": [
    "b.union(c)"
   ]
  },
  {
   "cell_type": "code",
   "execution_count": 6,
   "metadata": {},
   "outputs": [
    {
     "data": {
      "text/plain": [
       "{'1', '2', '3', '4', '5', '6'}"
      ]
     },
     "execution_count": 6,
     "metadata": {},
     "output_type": "execute_result"
    }
   ],
   "source": [
    "c.union(a)"
   ]
  },
  {
   "cell_type": "code",
   "execution_count": 7,
   "metadata": {},
   "outputs": [
    {
     "name": "stdout",
     "output_type": "stream",
     "text": [
      "{'3', '4', '2', '5', '1', '6'}\n",
      "{'2', '4', '5', '3', '1', '6'}\n",
      "{'3', '4', '2', '5', '1', '6'}\n"
     ]
    }
   ],
   "source": [
    "# Объединение\n",
    "print(a | b | c)\n",
    "print(a | (b | c))\n",
    "print(c | a)"
   ]
  },
  {
   "cell_type": "code",
   "execution_count": 8,
   "metadata": {},
   "outputs": [
    {
     "name": "stdout",
     "output_type": "stream",
     "text": [
      "{'3', '2'}\n",
      "{'4'}\n",
      "set()\n"
     ]
    }
   ],
   "source": [
    "# Пересечение\n",
    "print(a & b)\n",
    "print(b & c)\n",
    "print(c & a)"
   ]
  },
  {
   "cell_type": "code",
   "execution_count": 9,
   "metadata": {},
   "outputs": [
    {
     "data": {
      "text/plain": [
       "{'2', '3'}"
      ]
     },
     "execution_count": 9,
     "metadata": {},
     "output_type": "execute_result"
    }
   ],
   "source": [
    "b.intersection(a)"
   ]
  },
  {
   "cell_type": "code",
   "execution_count": 10,
   "metadata": {},
   "outputs": [
    {
     "data": {
      "text/plain": [
       "{'4'}"
      ]
     },
     "execution_count": 10,
     "metadata": {},
     "output_type": "execute_result"
    }
   ],
   "source": [
    "c.intersection(b)"
   ]
  },
  {
   "cell_type": "code",
   "execution_count": 11,
   "metadata": {},
   "outputs": [
    {
     "name": "stdout",
     "output_type": "stream",
     "text": [
      "{'1'}\n",
      "{'4'}\n",
      "set()\n",
      "{'5', '6'}\n",
      "{'3', '2', '1'}\n",
      "{'5', '4', '6'}\n"
     ]
    }
   ],
   "source": [
    "# Разность\n",
    "print(a - b)\n",
    "print(b - a)\n",
    "print(b - c - a)\n",
    "print(c - b)\n",
    "print(a - c)\n",
    "print(c - a)"
   ]
  },
  {
   "cell_type": "code",
   "execution_count": 12,
   "metadata": {},
   "outputs": [
    {
     "data": {
      "text/plain": [
       "{'1'}"
      ]
     },
     "execution_count": 12,
     "metadata": {},
     "output_type": "execute_result"
    }
   ],
   "source": [
    "a.difference(b)"
   ]
  },
  {
   "cell_type": "code",
   "execution_count": 13,
   "metadata": {},
   "outputs": [
    {
     "data": {
      "text/plain": [
       "{'4'}"
      ]
     },
     "execution_count": 13,
     "metadata": {},
     "output_type": "execute_result"
    }
   ],
   "source": [
    "b.difference(a)"
   ]
  },
  {
   "cell_type": "code",
   "execution_count": 14,
   "metadata": {},
   "outputs": [
    {
     "name": "stdout",
     "output_type": "stream",
     "text": [
      "{'4', '1'}\n",
      "{'2', '5', '3', '6'}\n",
      "{'4', '2', '5', '3', '1', '6'}\n"
     ]
    }
   ],
   "source": [
    "# Симметрическая разность\n",
    "print(a ^ b)\n",
    "print(b ^ c)\n",
    "print(c ^ a)"
   ]
  },
  {
   "cell_type": "code",
   "execution_count": 15,
   "metadata": {},
   "outputs": [
    {
     "data": {
      "text/plain": [
       "{'2', '3', '5', '6'}"
      ]
     },
     "execution_count": 15,
     "metadata": {},
     "output_type": "execute_result"
    }
   ],
   "source": [
    "c.symmetric_difference(b)"
   ]
  },
  {
   "cell_type": "code",
   "execution_count": 16,
   "metadata": {},
   "outputs": [
    {
     "data": {
      "text/plain": [
       "{('1', '2', '4'),\n",
       " ('1', '2', '5'),\n",
       " ('1', '2', '6'),\n",
       " ('1', '3', '4'),\n",
       " ('1', '3', '5'),\n",
       " ('1', '3', '6'),\n",
       " ('1', '4', '4'),\n",
       " ('1', '4', '5'),\n",
       " ('1', '4', '6'),\n",
       " ('2', '2', '4'),\n",
       " ('2', '2', '5'),\n",
       " ('2', '2', '6'),\n",
       " ('2', '3', '4'),\n",
       " ('2', '3', '5'),\n",
       " ('2', '3', '6'),\n",
       " ('2', '4', '4'),\n",
       " ('2', '4', '5'),\n",
       " ('2', '4', '6'),\n",
       " ('3', '2', '4'),\n",
       " ('3', '2', '5'),\n",
       " ('3', '2', '6'),\n",
       " ('3', '3', '4'),\n",
       " ('3', '3', '5'),\n",
       " ('3', '3', '6'),\n",
       " ('3', '4', '4'),\n",
       " ('3', '4', '5'),\n",
       " ('3', '4', '6')}"
      ]
     },
     "execution_count": 16,
     "metadata": {},
     "output_type": "execute_result"
    }
   ],
   "source": [
    "import itertools as it\n",
    "# Декартово произведение\n",
    "set(it.product(a, b, c))"
   ]
  },
  {
   "cell_type": "markdown",
   "metadata": {},
   "source": [
    "####\tДаны 4 последовательности. Необходимо:   \n",
    "    a.\tисследовать их на монотонность;   \n",
    "    b.\tисследовать на ограниченность;   \n",
    "    c.\tнайти пятый по счету член.\n"
   ]
  },
  {
   "cell_type": "markdown",
   "metadata": {},
   "source": [
    "$\\{a_n \\} \n",
    "\\begin{matrix}\n",
    "  \\infty \\\\\n",
    "  n = 1\n",
    " \\end{matrix}\n",
    "= 2^n - n\n",
    "$   \n",
    "$\\{b_n \\} \n",
    "\\begin{matrix}\n",
    "  \\infty \\\\\n",
    "  n = 2\n",
    " \\end{matrix}\n",
    "= \\frac{1}{1-n}\n",
    "$   \n",
    "$\\{c_n \\} \n",
    "\\begin{matrix}\n",
    "  \\infty \\\\\n",
    "  n = 1\n",
    " \\end{matrix}\n",
    "= -1^n + \\sqrt 2n\n",
    "$   \n",
    "$\\{d_n \\} \n",
    "\\begin{matrix}\n",
    "  \\infty \\\\\n",
    "  n = 1\n",
    " \\end{matrix}\n",
    "= -1^{2n} + \\frac{1}{n^2}\n",
    "$   "
   ]
  },
  {
   "cell_type": "code",
   "execution_count": 17,
   "metadata": {},
   "outputs": [],
   "source": [
    "def an(n):\n",
    "    return pow(2, n) - n"
   ]
  },
  {
   "cell_type": "code",
   "execution_count": 18,
   "metadata": {},
   "outputs": [],
   "source": [
    "def bn(n):\n",
    "    return 1/(1-n)"
   ]
  },
  {
   "cell_type": "code",
   "execution_count": 19,
   "metadata": {},
   "outputs": [],
   "source": [
    "def cn(n):\n",
    "    return pow(-1, n) + pow(2*n, 0.5)"
   ]
  },
  {
   "cell_type": "code",
   "execution_count": 20,
   "metadata": {},
   "outputs": [],
   "source": [
    "def dn(n):\n",
    "    return pow(-1, 2*n) + 1/pow(n, 2)"
   ]
  },
  {
   "cell_type": "code",
   "execution_count": 21,
   "metadata": {},
   "outputs": [],
   "source": [
    "def get_list(p, n):\n",
    "    return list(map(lambda x: p(x), n))"
   ]
  },
  {
   "cell_type": "code",
   "execution_count": 22,
   "metadata": {},
   "outputs": [
    {
     "data": {
      "text/plain": [
       "([1, 2, 5, 12, 27, 58, 121, 248, 503],\n",
       " [-1.0,\n",
       "  -0.5,\n",
       "  -0.3333333333333333,\n",
       "  -0.25,\n",
       "  -0.2,\n",
       "  -0.16666666666666666,\n",
       "  -0.14285714285714285,\n",
       "  -0.125],\n",
       " [0.41421356237309515,\n",
       "  3.0,\n",
       "  1.4494897427831779,\n",
       "  3.8284271247461903,\n",
       "  2.1622776601683795,\n",
       "  4.464101615137754,\n",
       "  2.7416573867739413,\n",
       "  5.0,\n",
       "  3.2426406871192848],\n",
       " [2.0,\n",
       "  1.25,\n",
       "  1.1111111111111112,\n",
       "  1.0625,\n",
       "  1.04,\n",
       "  1.0277777777777777,\n",
       "  1.0204081632653061,\n",
       "  1.015625,\n",
       "  1.0123456790123457])"
      ]
     },
     "execution_count": 22,
     "metadata": {},
     "output_type": "execute_result"
    }
   ],
   "source": [
    "p_a = get_list(an, list(range(1, 10)))\n",
    "p_b = get_list(bn, list(range(2, 10)))\n",
    "p_c = get_list(cn, list(range(1, 10)))\n",
    "p_d = get_list(dn, list(range(1, 10)))\n",
    "\n",
    "p_a, p_b, p_c, p_d"
   ]
  },
  {
   "cell_type": "markdown",
   "metadata": {},
   "source": [
    "Последовательность называется монотонной, если она убывающая или возрастающая.   \n",
    "Последовательность a - возрастающая, ограничение 1 снизу, не ограничена сверху   \n",
    "Последовательность b - возрастающая, ограничение -1 снизу, стремится к 0 сверху   \n",
    "Последовательность с - не монотонная, не ограниченна сверху   \n",
    "Последовательность d - убывающая, ограничение 2 сверху, стремится к 1 снизу\n"
   ]
  },
  {
   "cell_type": "markdown",
   "metadata": {},
   "source": [
    "#### Найти пятый по счету член"
   ]
  },
  {
   "cell_type": "code",
   "execution_count": 23,
   "metadata": {},
   "outputs": [
    {
     "name": "stdout",
     "output_type": "stream",
     "text": [
      "a(5)= 27\n",
      "b(5)= -0.2\n",
      "c(5)= 2.1622776601683795\n",
      "d(5)= 1.04\n"
     ]
    }
   ],
   "source": [
    "print('a(5)=',an(5))\n",
    "print('b(5)=',bn(6))\n",
    "print('c(5)=',cn(5))\n",
    "print('d(5)=',dn(5))"
   ]
  },
  {
   "cell_type": "markdown",
   "metadata": {},
   "source": [
    "#### Найти 12-й член заданной неявно последовательности:"
   ]
  },
  {
   "cell_type": "markdown",
   "metadata": {},
   "source": [
    "$a_1 = 128,  a_{n+1} - a_n = 6$"
   ]
  },
  {
   "cell_type": "code",
   "execution_count": 24,
   "metadata": {},
   "outputs": [],
   "source": [
    "def a128(n):\n",
    "    if n == 1:\n",
    "        return 128\n",
    "    else:\n",
    "        return a128(n-1) + 6"
   ]
  },
  {
   "cell_type": "code",
   "execution_count": 25,
   "metadata": {},
   "outputs": [
    {
     "data": {
      "text/plain": [
       "194"
      ]
     },
     "execution_count": 25,
     "metadata": {},
     "output_type": "execute_result"
    }
   ],
   "source": [
    "a128(12)"
   ]
  },
  {
   "cell_type": "markdown",
   "metadata": {},
   "source": [
    "#### На языке Python предложить алгоритм вычисляющий численно предел с точностью $\\varepsilon = 10^{-7}$   \n",
    "$\\lim\\limits_{n \\to +\\infty} \\frac{n}{\\sqrt[n]{n!}}$"
   ]
  },
  {
   "cell_type": "code",
   "execution_count": 26,
   "metadata": {},
   "outputs": [],
   "source": [
    "import math\n",
    "import itertools\n",
    "import numpy as np\n",
    "from decimal import *"
   ]
  },
  {
   "cell_type": "code",
   "execution_count": 27,
   "metadata": {},
   "outputs": [],
   "source": [
    "def f(n):\n",
    "    with localcontext() as ctx:\n",
    "        ctx.prec = 9  # desired precision\n",
    "        nf = Decimal(math.factorial(n))\n",
    "        ns = Decimal(1/n)\n",
    "        zn = Decimal(nf**ns)\n",
    "        x = Decimal(n / zn)\n",
    "        return float(x)"
   ]
  },
  {
   "cell_type": "code",
   "execution_count": 28,
   "metadata": {},
   "outputs": [],
   "source": [
    "#eps = 10e-7\n",
    "#e = round(math.e,9)\n",
    "#for n in itertools.count(0,1000000):\n",
    "#    if n == 0:\n",
    "#        continue\n",
    "#    x = f(n)\n",
    "#    if ((e - x)/e) < eps:\n",
    "#        break\n",
    "#    if n % 1000000 == 0:\n",
    "#        print(n, \" \", x)\n",
    "\n",
    "#print(n, \" x = \", x)"
   ]
  },
  {
   "cell_type": "markdown",
   "metadata": {},
   "source": [
    "Расчёт получается очень долгий. Попробуем ускорить."
   ]
  },
  {
   "cell_type": "markdown",
   "metadata": {},
   "source": [
    "Заменим n! по формуле Муавра — Стирлинга:   \n",
    "$n! \\approx \\sqrt{2\\pi n} (\\frac{n}{e})^n$"
   ]
  },
  {
   "cell_type": "code",
   "execution_count": 29,
   "metadata": {},
   "outputs": [],
   "source": [
    "def f2(n):\n",
    "    fn = 1 / (math.sqrt(2 * math.pi * n)**(1/n) * (1 / math.e ))\n",
    "    return float(fn)"
   ]
  },
  {
   "cell_type": "code",
   "execution_count": 30,
   "metadata": {},
   "outputs": [
    {
     "name": "stdout",
     "output_type": "stream",
     "text": [
      "1000000   2.7182605533827355\n",
      "2000000   2.718270719859614\n",
      "3000000   2.7182742390268144\n",
      "4000000   2.718276038632973\n",
      "5000000   2.7182771359405993\n",
      "6000000   2.718277876726389\n",
      "7000000   2.718278411328955\n",
      "8000000   2.7182788157840094\n",
      "9000000  x =  2.71827913273845\n"
     ]
    }
   ],
   "source": [
    "eps = 10e-7\n",
    "e = math.e\n",
    "for n in itertools.count(0,1000000):\n",
    "    if n == 0:\n",
    "        continue\n",
    "    x = f2(n)\n",
    "    if ((e - x)/e) < eps:\n",
    "        break\n",
    "    if n % 1000000 == 0:\n",
    "        print(n, \" \", x)\n",
    "\n",
    "print(n, \" x = \", x)"
   ]
  },
  {
   "cell_type": "code",
   "execution_count": 31,
   "metadata": {},
   "outputs": [
    {
     "name": "stdout",
     "output_type": "stream",
     "text": [
      "Точность =  9.91700186113445e-07\n"
     ]
    }
   ],
   "source": [
    "print(\"Точность = \", (e - x)/e)"
   ]
  },
  {
   "cell_type": "code",
   "execution_count": null,
   "metadata": {},
   "outputs": [],
   "source": []
  }
 ],
 "metadata": {
  "kernelspec": {
   "display_name": "Python 3",
   "language": "python",
   "name": "python3"
  },
  "language_info": {
   "codemirror_mode": {
    "name": "ipython",
    "version": 3
   },
   "file_extension": ".py",
   "mimetype": "text/x-python",
   "name": "python",
   "nbconvert_exporter": "python",
   "pygments_lexer": "ipython3",
   "version": "3.7.4"
  }
 },
 "nbformat": 4,
 "nbformat_minor": 2
}
